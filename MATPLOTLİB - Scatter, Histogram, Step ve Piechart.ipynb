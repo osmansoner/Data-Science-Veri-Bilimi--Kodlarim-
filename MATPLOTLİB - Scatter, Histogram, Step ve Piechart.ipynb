{
 "cells": [
  {
   "cell_type": "code",
   "execution_count": 1,
   "metadata": {},
   "outputs": [],
   "source": [
    "import matplotlib.pyplot as plt"
   ]
  },
  {
   "cell_type": "code",
   "execution_count": 2,
   "metadata": {},
   "outputs": [],
   "source": [
    "import pandas as pd"
   ]
  },
  {
   "cell_type": "code",
   "execution_count": 3,
   "metadata": {},
   "outputs": [],
   "source": [
    "%matplotlib inline"
   ]
  },
  {
   "cell_type": "code",
   "execution_count": 6,
   "metadata": {},
   "outputs": [
    {
     "data": {
      "text/html": [
       "<div>\n",
       "<style scoped>\n",
       "    .dataframe tbody tr th:only-of-type {\n",
       "        vertical-align: middle;\n",
       "    }\n",
       "\n",
       "    .dataframe tbody tr th {\n",
       "        vertical-align: top;\n",
       "    }\n",
       "\n",
       "    .dataframe thead th {\n",
       "        text-align: right;\n",
       "    }\n",
       "</style>\n",
       "<table border=\"1\" class=\"dataframe\">\n",
       "  <thead>\n",
       "    <tr style=\"text-align: right;\">\n",
       "      <th></th>\n",
       "      <th>Ülke</th>\n",
       "      <th>Gelir</th>\n",
       "      <th>Nüfus</th>\n",
       "      <th>Kişi Başına</th>\n",
       "      <th>KITA</th>\n",
       "    </tr>\n",
       "  </thead>\n",
       "  <tbody>\n",
       "    <tr>\n",
       "      <th>0</th>\n",
       "      <td>ABD</td>\n",
       "      <td>20410000</td>\n",
       "      <td>323,766</td>\n",
       "      <td>63039</td>\n",
       "      <td>Kuzey Amerika</td>\n",
       "    </tr>\n",
       "    <tr>\n",
       "      <th>1</th>\n",
       "      <td>Çin</td>\n",
       "      <td>14090000</td>\n",
       "      <td>1415,045</td>\n",
       "      <td>9957</td>\n",
       "      <td>Asya</td>\n",
       "    </tr>\n",
       "    <tr>\n",
       "      <th>2</th>\n",
       "      <td>Japonya</td>\n",
       "      <td>5170000</td>\n",
       "      <td>127,185</td>\n",
       "      <td>40649</td>\n",
       "      <td>Asya</td>\n",
       "    </tr>\n",
       "    <tr>\n",
       "      <th>3</th>\n",
       "      <td>Almanya</td>\n",
       "      <td>4210000</td>\n",
       "      <td>82,293</td>\n",
       "      <td>51158</td>\n",
       "      <td>Avrupa</td>\n",
       "    </tr>\n",
       "    <tr>\n",
       "      <th>4</th>\n",
       "      <td>İngiltere</td>\n",
       "      <td>2940000</td>\n",
       "      <td>66,573</td>\n",
       "      <td>44162</td>\n",
       "      <td>Avrupa</td>\n",
       "    </tr>\n",
       "    <tr>\n",
       "      <th>5</th>\n",
       "      <td>Fransa</td>\n",
       "      <td>2930000</td>\n",
       "      <td>65,233</td>\n",
       "      <td>44915</td>\n",
       "      <td>Avrupa</td>\n",
       "    </tr>\n",
       "    <tr>\n",
       "      <th>6</th>\n",
       "      <td>Hindistan</td>\n",
       "      <td>2850000</td>\n",
       "      <td>1354,051</td>\n",
       "      <td>2104</td>\n",
       "      <td>Asya</td>\n",
       "    </tr>\n",
       "    <tr>\n",
       "      <th>7</th>\n",
       "      <td>İtalya</td>\n",
       "      <td>2180000</td>\n",
       "      <td>59,29</td>\n",
       "      <td>36768</td>\n",
       "      <td>Avrupa</td>\n",
       "    </tr>\n",
       "    <tr>\n",
       "      <th>8</th>\n",
       "      <td>Brezilya</td>\n",
       "      <td>2140000</td>\n",
       "      <td>210,867</td>\n",
       "      <td>10148</td>\n",
       "      <td>Güney Amerika</td>\n",
       "    </tr>\n",
       "    <tr>\n",
       "      <th>9</th>\n",
       "      <td>Kanada</td>\n",
       "      <td>1800000</td>\n",
       "      <td>36,953</td>\n",
       "      <td>48710</td>\n",
       "      <td>Kuzey Amerika</td>\n",
       "    </tr>\n",
       "    <tr>\n",
       "      <th>10</th>\n",
       "      <td>Rusya</td>\n",
       "      <td>1720000</td>\n",
       "      <td>143,967</td>\n",
       "      <td>11947</td>\n",
       "      <td>Avrupa</td>\n",
       "    </tr>\n",
       "    <tr>\n",
       "      <th>11</th>\n",
       "      <td>GÜney Kore</td>\n",
       "      <td>1690000</td>\n",
       "      <td>51,164</td>\n",
       "      <td>33031</td>\n",
       "      <td>Asya</td>\n",
       "    </tr>\n",
       "    <tr>\n",
       "      <th>12</th>\n",
       "      <td>İspanya</td>\n",
       "      <td>1510000</td>\n",
       "      <td>46,397</td>\n",
       "      <td>32545</td>\n",
       "      <td>Avrupa</td>\n",
       "    </tr>\n",
       "    <tr>\n",
       "      <th>13</th>\n",
       "      <td>Avusturalya</td>\n",
       "      <td>1500000</td>\n",
       "      <td>24,772</td>\n",
       "      <td>60552</td>\n",
       "      <td>Okyanusya</td>\n",
       "    </tr>\n",
       "    <tr>\n",
       "      <th>14</th>\n",
       "      <td>Meksika</td>\n",
       "      <td>1210000</td>\n",
       "      <td>130,759</td>\n",
       "      <td>9253</td>\n",
       "      <td>Kuzey Amerika</td>\n",
       "    </tr>\n",
       "    <tr>\n",
       "      <th>15</th>\n",
       "      <td>Endonezya</td>\n",
       "      <td>1070000</td>\n",
       "      <td>266,794</td>\n",
       "      <td>4010</td>\n",
       "      <td>Asya</td>\n",
       "    </tr>\n",
       "    <tr>\n",
       "      <th>16</th>\n",
       "      <td>Hollanda</td>\n",
       "      <td>945000</td>\n",
       "      <td>17,084</td>\n",
       "      <td>55314</td>\n",
       "      <td>Avrupa</td>\n",
       "    </tr>\n",
       "    <tr>\n",
       "      <th>17</th>\n",
       "      <td>Türkiye</td>\n",
       "      <td>910000</td>\n",
       "      <td>81,916</td>\n",
       "      <td>11108</td>\n",
       "      <td>Asya</td>\n",
       "    </tr>\n",
       "    <tr>\n",
       "      <th>18</th>\n",
       "      <td>Suudi Arabistan</td>\n",
       "      <td>748000</td>\n",
       "      <td>33,554</td>\n",
       "      <td>22292</td>\n",
       "      <td>Asya</td>\n",
       "    </tr>\n",
       "    <tr>\n",
       "      <th>19</th>\n",
       "      <td>İsviçre</td>\n",
       "      <td>741000</td>\n",
       "      <td>8,554</td>\n",
       "      <td>86626</td>\n",
       "      <td>Avrupa</td>\n",
       "    </tr>\n",
       "  </tbody>\n",
       "</table>\n",
       "</div>"
      ],
      "text/plain": [
       "               Ülke     Gelir     Nüfus  Kişi Başına           KITA\n",
       "0               ABD  20410000   323,766        63039  Kuzey Amerika\n",
       "1               Çin  14090000  1415,045         9957           Asya\n",
       "2           Japonya   5170000   127,185        40649           Asya\n",
       "3           Almanya   4210000    82,293        51158         Avrupa\n",
       "4         İngiltere   2940000    66,573        44162         Avrupa\n",
       "5            Fransa   2930000    65,233        44915         Avrupa\n",
       "6         Hindistan   2850000  1354,051         2104           Asya\n",
       "7            İtalya   2180000     59,29        36768         Avrupa\n",
       "8          Brezilya   2140000   210,867        10148  Güney Amerika\n",
       "9            Kanada   1800000    36,953        48710  Kuzey Amerika\n",
       "10            Rusya   1720000   143,967        11947         Avrupa\n",
       "11       GÜney Kore   1690000    51,164        33031           Asya\n",
       "12          İspanya   1510000    46,397        32545         Avrupa\n",
       "13      Avusturalya   1500000    24,772        60552      Okyanusya\n",
       "14          Meksika   1210000   130,759         9253  Kuzey Amerika\n",
       "15        Endonezya   1070000   266,794         4010           Asya\n",
       "16         Hollanda    945000    17,084        55314         Avrupa\n",
       "17          Türkiye    910000    81,916        11108           Asya\n",
       "18  Suudi Arabistan    748000    33,554        22292           Asya\n",
       "19          İsviçre    741000     8,554        86626         Avrupa"
      ]
     },
     "execution_count": 6,
     "metadata": {},
     "output_type": "execute_result"
    }
   ],
   "source": [
    "c = pd.read_csv(\"dünya.csv\")\n"
   ]
  },
  {
   "cell_type": "code",
   "execution_count": null,
   "metadata": {},
   "outputs": [],
   "source": []
  },
  {
   "cell_type": "code",
   "execution_count": 18,
   "metadata": {},
   "outputs": [],
   "source": [
    "x = [\"ABD\",\"ÇİN\",\"JAPONYA\",\"ALMANYA\",\"İNGİLTERE\",\"FRANSA\"]\n",
    "y = [20410,14090,5170,4210,2940,2930] #milli gelir\n",
    "z = [63039,9957,40649,51558,44162,44915] # kişi başı milli gelir"
   ]
  },
  {
   "cell_type": "markdown",
   "metadata": {},
   "source": [
    "# Scatter"
   ]
  },
  {
   "cell_type": "code",
   "execution_count": 19,
   "metadata": {
    "scrolled": true
   },
   "outputs": [
    {
     "data": {
      "text/plain": [
       "<matplotlib.collections.PathCollection at 0x1fb916b1e80>"
      ]
     },
     "execution_count": 19,
     "metadata": {},
     "output_type": "execute_result"
    },
    {
     "data": {
      "image/png": "[encoded data removed]",
      "text/plain": [
       "<Figure size 432x288 with 1 Axes>"
      ]
     },
     "metadata": {
      "needs_background": "light"
     },
     "output_type": "display_data"
    }
   ],
   "source": [
    "plt.scatter(c[\"Ülke\"],c[\"Kişi Başına\"]) #karışıklık önemli değil şu anda "
   ]
  },
  {
   "cell_type": "markdown",
   "metadata": {},
   "source": [
    "# Histogram"
   ]
  },
  {
   "cell_type": "code",
   "execution_count": 20,
   "metadata": {},
   "outputs": [
    {
     "data": {
      "text/plain": [
       "(array([5., 2., 1., 2., 3., 3., 2., 1., 0., 1.]),\n",
       " array([ 2104. , 10556.2, 19008.4, 27460.6, 35912.8, 44365. , 52817.2,\n",
       "        61269.4, 69721.6, 78173.8, 86626. ]),\n",
       " <a list of 10 Patch objects>)"
      ]
     },
     "execution_count": 20,
     "metadata": {},
     "output_type": "execute_result"
    },
    {
     "data": {
      "image/png": "[encoded data removed]",
      "text/plain": [
       "<Figure size 432x288 with 1 Axes>"
      ]
     },
     "metadata": {
      "needs_background": "light"
     },
     "output_type": "display_data"
    }
   ],
   "source": [
    "plt.hist(c[\"Kişi Başına\"])"
   ]
  },
  {
   "cell_type": "code",
   "execution_count": 21,
   "metadata": {},
   "outputs": [
    {
     "data": {
      "text/plain": [
       "(array([7., 3., 6., 3., 1.]),\n",
       " array([ 2104. , 19008.4, 35912.8, 52817.2, 69721.6, 86626. ]),\n",
       " <a list of 5 Patch objects>)"
      ]
     },
     "execution_count": 21,
     "metadata": {},
     "output_type": "execute_result"
    },
    {
     "data": {
      "image/png": "[encoded data removed]",
      "text/plain": [
       "<Figure size 432x288 with 1 Axes>"
      ]
     },
     "metadata": {
      "needs_background": "light"
     },
     "output_type": "display_data"
    }
   ],
   "source": [
    "plt.hist(c[\"Kişi Başına\"],bins=5) #bins kaç parçadan oluşacağını söyler."
   ]
  },
  {
   "cell_type": "markdown",
   "metadata": {},
   "source": [
    "# Step"
   ]
  },
  {
   "cell_type": "code",
   "execution_count": 22,
   "metadata": {},
   "outputs": [
    {
     "data": {
      "text/plain": [
       "[<matplotlib.lines.Line2D at 0x1fb927870f0>]"
      ]
     },
     "execution_count": 22,
     "metadata": {},
     "output_type": "execute_result"
    },
    {
     "data": {
      "image/png": "[encoded data removed]",
      "text/plain": [
       "<Figure size 432x288 with 1 Axes>"
      ]
     },
     "metadata": {
      "needs_background": "light"
     },
     "output_type": "display_data"
    }
   ],
   "source": [
    "plt.step(x,y)"
   ]
  },
  {
   "cell_type": "markdown",
   "metadata": {},
   "source": [
    "# Piechart"
   ]
  },
  {
   "cell_type": "code",
   "execution_count": 31,
   "metadata": {},
   "outputs": [
    {
     "data": {
      "text/plain": [
       "(-1.1210518405653211,\n",
       " 1.1100145608686336,\n",
       " -1.109297773168845,\n",
       " 1.2952530630821815)"
      ]
     },
     "execution_count": 31,
     "metadata": {},
     "output_type": "execute_result"
    },
    {
     "data": {
      "image/png": "[encoded data removed]",
      "text/plain": [
       "<Figure size 432x288 with 1 Axes>"
      ]
     },
     "metadata": {},
     "output_type": "display_data"
    }
   ],
   "source": [
    "labels = 'Türkiye', 'ABD', 'Çin', 'Almanya'\n",
    "sizes = [12, 38, 32, 18]\n",
    "explode = (0.2, 0, 0, 0)\n",
    "\n",
    "fig1,ax1=plt.subplots()\n",
    "ax1.pie(sizes, explode=explode, labels=labels, shadow=True, startangle=90)\n",
    "ax1.axis('equal')"
   ]
  },
  {
   "cell_type": "code",
   "execution_count": null,
   "metadata": {},
   "outputs": [],
   "source": []
  },
  {
   "cell_type": "code",
   "execution_count": null,
   "metadata": {},
   "outputs": [],
   "source": []
  }
 ],
 "metadata": {
  "kernelspec": {
   "display_name": "Python 3",
   "language": "python",
   "name": "python3"
  },
  "language_info": {
   "codemirror_mode": {
    "name": "ipython",
    "version": 3
   },
   "file_extension": ".py",
   "mimetype": "text/x-python",
   "name": "python",
   "nbconvert_exporter": "python",
   "pygments_lexer": "ipython3",
   "version": "3.7.3"
  }
 },
 "nbformat": 4,
 "nbformat_minor": 2
}
