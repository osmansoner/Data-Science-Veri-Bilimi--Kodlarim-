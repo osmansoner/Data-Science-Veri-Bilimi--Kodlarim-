{
 "cells": [
  {
   "cell_type": "code",
   "execution_count": 9,
   "metadata": {},
   "outputs": [],
   "source": [
    "a = 0"
   ]
  },
  {
   "cell_type": "code",
   "execution_count": 10,
   "metadata": {},
   "outputs": [
    {
     "name": "stdout",
     "output_type": "stream",
     "text": [
      "0\n",
      "- 1\n",
      "2\n",
      "- 3\n",
      "4\n",
      "- 5\n",
      "6\n",
      "- 7\n",
      "8\n",
      "- 9\n",
      "10\n",
      "- 11\n",
      "12\n",
      "- 13\n",
      "14\n",
      "- 15\n",
      "16\n",
      "- 17\n",
      "18\n",
      "- 19\n",
      "20\n",
      "- 21\n",
      "22\n",
      "- 23\n",
      "24\n",
      "- 25\n",
      "26\n",
      "- 27\n",
      "28\n",
      "- 29\n"
     ]
    }
   ],
   "source": [
    "while a < 30:\n",
    "    if a % 2 == 0:\n",
    "        print(a)\n",
    "    else :\n",
    "        print(\"-\",a)\n",
    "    a += 1"
   ]
  },
  {
   "cell_type": "code",
   "execution_count": 11,
   "metadata": {},
   "outputs": [],
   "source": [
    "harfler = \"abcdef\""
   ]
  },
  {
   "cell_type": "code",
   "execution_count": 12,
   "metadata": {},
   "outputs": [
    {
     "name": "stdout",
     "output_type": "stream",
     "text": [
      "a\n",
      "b\n",
      "c\n",
      "d\n",
      "e\n",
      "f\n"
     ]
    }
   ],
   "source": [
    "for harf in harfler:\n",
    "    print(harf)"
   ]
  },
  {
   "cell_type": "code",
   "execution_count": 13,
   "metadata": {},
   "outputs": [
    {
     "name": "stdout",
     "output_type": "stream",
     "text": [
      "1\n",
      "2\n",
      "3\n",
      "4\n",
      "5\n",
      "6\n",
      "7\n",
      "8\n",
      "9\n"
     ]
    }
   ],
   "source": [
    "for i in range(1,10):\n",
    "    print(i)"
   ]
  },
  {
   "cell_type": "code",
   "execution_count": 14,
   "metadata": {},
   "outputs": [
    {
     "name": "stdout",
     "output_type": "stream",
     "text": [
      "0\n",
      "1\n",
      "2\n",
      "3\n",
      "4\n",
      "5\n",
      "6\n",
      "7\n",
      "8\n",
      "9\n"
     ]
    }
   ],
   "source": [
    "for i in range(10):  #hiçbir şey yazılmazsa 0'dan başlar.\n",
    "    print(i)"
   ]
  },
  {
   "cell_type": "code",
   "execution_count": 15,
   "metadata": {},
   "outputs": [
    {
     "name": "stdout",
     "output_type": "stream",
     "text": [
      "0\n",
      "2\n",
      "4\n",
      "6\n",
      "8\n"
     ]
    }
   ],
   "source": [
    "for i in range(0,10,2):\n",
    "    print(i)"
   ]
  },
  {
   "cell_type": "code",
   "execution_count": 16,
   "metadata": {},
   "outputs": [
    {
     "name": "stdout",
     "output_type": "stream",
     "text": [
      "Bir sayı giriniz:24\n",
      "Bir sayı giriniz:125\n",
      "Bir sayı giriniz:31\n",
      "Bir sayı giriniz:148\n",
      "Bir sayı giriniz:2561\n",
      "En fazla 3 haneli bir sayı girin.\n",
      "Bir sayı giriniz:41\n",
      "Bir sayı giriniz:iptal\n"
     ]
    }
   ],
   "source": [
    "while True:\n",
    "    s = input(\"Bir sayı giriniz:\")\n",
    "    if s == \"iptal\":\n",
    "        break\n",
    "    if len(s) <= 3:\n",
    "        continue\n",
    "    print(\"En fazla 3 haneli bir sayı girin.\")"
   ]
  },
  {
   "cell_type": "code",
   "execution_count": null,
   "metadata": {},
   "outputs": [],
   "source": []
  }
 ],
 "metadata": {
  "kernelspec": {
   "display_name": "Python 3",
   "language": "python",
   "name": "python3"
  },
  "language_info": {
   "codemirror_mode": {
    "name": "ipython",
    "version": 3
   },
   "file_extension": ".py",
   "mimetype": "text/x-python",
   "name": "python",
   "nbconvert_exporter": "python",
   "pygments_lexer": "ipython3",
   "version": "3.7.3"
  }
 },
 "nbformat": 4,
 "nbformat_minor": 2
}
