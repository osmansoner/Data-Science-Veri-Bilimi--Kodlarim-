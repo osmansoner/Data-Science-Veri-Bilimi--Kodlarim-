{
 "cells": [
  {
   "cell_type": "code",
   "execution_count": 1,
   "metadata": {},
   "outputs": [],
   "source": [
    "import numpy as np\n",
    "import pandas as pd\n",
    "from sklearn.linear_model import LinearRegression as lr\n",
    "import matplotlib.pyplot as plt\n"
   ]
  },
  {
   "cell_type": "code",
   "execution_count": 2,
   "metadata": {},
   "outputs": [],
   "source": [
    "data = pd.read_csv(\"linear.csv\")"
   ]
  },
  {
   "cell_type": "code",
   "execution_count": 3,
   "metadata": {},
   "outputs": [],
   "source": [
    "x = data[\"metrekare\"]\n",
    "y = data[\"fiyat\"]\n"
   ]
  },
  {
   "cell_type": "code",
   "execution_count": 7,
   "metadata": {},
   "outputs": [],
   "source": [
    "x = np.array(x)\n",
    "x = x.reshape(99,1)\n",
    "y = np.array(y)\n",
    "y = y.reshape(99,1)"
   ]
  },
  {
   "cell_type": "code",
   "execution_count": 9,
   "metadata": {},
   "outputs": [
    {
     "data": {
      "text/plain": [
       "array([[140.92713475],\n",
       "       [126.14705817],\n",
       "       [ 59.53153933],\n",
       "       [105.52760185],\n",
       "       [ 28.6232092 ],\n",
       "       [ 34.8992221 ],\n",
       "       [ 75.86364056],\n",
       "       [ 17.64828325],\n",
       "       [ 72.97868043],\n",
       "       [ 35.58715578],\n",
       "       [ 28.71385311],\n",
       "       [171.99848431],\n",
       "       [ 77.86868469],\n",
       "       [152.58197659],\n",
       "       [  6.61961537],\n",
       "       [ 85.7401258 ],\n",
       "       [120.28080264],\n",
       "       [191.59641765],\n",
       "       [108.55987756],\n",
       "       [114.5569289 ],\n",
       "       [114.28924618],\n",
       "       [149.45723034],\n",
       "       [104.72280183],\n",
       "       [ 51.00387282],\n",
       "       [ 79.98313213],\n",
       "       [ 82.70470956],\n",
       "       [162.11507614],\n",
       "       [161.42324319],\n",
       "       [ 61.94365055],\n",
       "       [ 93.23125654],\n",
       "       [ 81.47374107],\n",
       "       [ 84.1235932 ],\n",
       "       [100.09213254],\n",
       "       [  3.97311686],\n",
       "       [ 29.28894042],\n",
       "       [119.16975709],\n",
       "       [121.95153198],\n",
       "       [ 75.96251293],\n",
       "       [ 11.08662674],\n",
       "       [134.16613581],\n",
       "       [ 94.20378641],\n",
       "       [ 29.97307314],\n",
       "       [  9.38807429],\n",
       "       [ 14.41949685],\n",
       "       [148.67828654],\n",
       "       [ 34.41243681],\n",
       "       [104.85680269],\n",
       "       [143.8111792 ],\n",
       "       [ 29.33020881],\n",
       "       [136.34524734],\n",
       "       [155.36118133],\n",
       "       [ 99.21860691],\n",
       "       [164.09987586],\n",
       "       [ 34.73743916],\n",
       "       [101.69833387],\n",
       "       [ 69.82437314],\n",
       "       [105.7122603 ],\n",
       "       [ 59.9137189 ],\n",
       "       [103.3131813 ],\n",
       "       [ 53.69503668],\n",
       "       [146.2453714 ],\n",
       "       [118.15666114],\n",
       "       [ 81.32458338],\n",
       "       [120.36474329],\n",
       "       [ 89.32994   ],\n",
       "       [ 58.70311215],\n",
       "       [157.55181057],\n",
       "       [ 50.2298573 ],\n",
       "       [ 53.34904495],\n",
       "       [ 94.37903143],\n",
       "       [ 92.83912422],\n",
       "       [135.58077693],\n",
       "       [169.6810533 ],\n",
       "       [165.17220699],\n",
       "       [110.17466901],\n",
       "       [166.79338508],\n",
       "       [ 61.4146259 ],\n",
       "       [ 90.28716602],\n",
       "       [151.16221745],\n",
       "       [123.96453321],\n",
       "       [138.84176286],\n",
       "       [ 47.33002777],\n",
       "       [131.4825062 ],\n",
       "       [144.81532731],\n",
       "       [ 41.19199468],\n",
       "       [102.90958984],\n",
       "       [116.0738539 ],\n",
       "       [126.65199183],\n",
       "       [140.54721089],\n",
       "       [ 77.12502497],\n",
       "       [ 43.45030655],\n",
       "       [162.05341755],\n",
       "       [ 41.88263794],\n",
       "       [ 64.64557506],\n",
       "       [146.31582925],\n",
       "       [111.2271728 ],\n",
       "       [ 41.52107453],\n",
       "       [145.32073074],\n",
       "       [137.43881557]])"
      ]
     },
     "execution_count": 9,
     "metadata": {},
     "output_type": "execute_result"
    }
   ],
   "source": [
    "lineerregresyon = lr()\n",
    "lineerregresyon.fit(x,y)\n",
    "lineerregresyon.predict(x)"
   ]
  },
  {
   "cell_type": "code",
   "execution_count": 10,
   "metadata": {},
   "outputs": [],
   "source": [
    "#mx + b"
   ]
  },
  {
   "cell_type": "code",
   "execution_count": 12,
   "metadata": {},
   "outputs": [
    {
     "name": "stdout",
     "output_type": "stream",
     "text": [
      "Eğim:  [[1.70655779]]\n",
      "Y'de kesiştiği yer: [-0.0059023]\n"
     ]
    }
   ],
   "source": [
    "print(\"Eğim: \",lineerregresyon.coef_)\n",
    "print(\"Y'de kesiştiği yer:\",lineerregresyon.intercept_)\n",
    "m = lineerregresyon.coef_\n",
    "b = lineerregresyon.intercept_"
   ]
  },
  {
   "cell_type": "code",
   "execution_count": 13,
   "metadata": {},
   "outputs": [
    {
     "name": "stdout",
     "output_type": "stream",
     "text": [
      "Denklem\n",
      "y= [[1.70655779]] x+ [-0.0059023]\n"
     ]
    }
   ],
   "source": [
    "print(\"Denklem\")\n",
    "print(\"y=\",m,\"x+\",b)"
   ]
  },
  {
   "cell_type": "code",
   "execution_count": 15,
   "metadata": {},
   "outputs": [],
   "source": [
    "a = np.arange(150)"
   ]
  },
  {
   "cell_type": "code",
   "execution_count": 16,
   "metadata": {},
   "outputs": [
    {
     "data": {
      "image/png": "[encoded data removed]",
      "text/plain": [
       "<Figure size 432x288 with 1 Axes>"
      ]
     },
     "metadata": {
      "needs_background": "light"
     },
     "output_type": "display_data"
    }
   ],
   "source": [
    "plt.scatter(x,y)\n",
    "plt.scatter(a,a*m+b)\n",
    "plt.show()"
   ]
  },
  {
   "cell_type": "code",
   "execution_count": null,
   "metadata": {},
   "outputs": [],
   "source": []
  }
 ],
 "metadata": {
  "kernelspec": {
   "display_name": "Python 3",
   "language": "python",
   "name": "python3"
  },
  "language_info": {
   "codemirror_mode": {
    "name": "ipython",
    "version": 3
   },
   "file_extension": ".py",
   "mimetype": "text/x-python",
   "name": "python",
   "nbconvert_exporter": "python",
   "pygments_lexer": "ipython3",
   "version": "3.7.3"
  }
 },
 "nbformat": 4,
 "nbformat_minor": 2
}
